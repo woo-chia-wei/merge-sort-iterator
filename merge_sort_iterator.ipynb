{
 "cells": [
  {
   "cell_type": "markdown",
   "metadata": {},
   "source": [
    "# Create Merge Sort Iterator"
   ]
  },
  {
   "cell_type": "code",
   "execution_count": 1,
   "metadata": {},
   "outputs": [],
   "source": [
    "# Assume that i1 and i2 are sorted iterators\n",
    "def merge_sort_iterator(i1, i2):    \n",
    "    while True:\n",
    "        x1_is_empty = False\n",
    "        x2_is_empty = False\n",
    "\n",
    "        try:\n",
    "            x1 = next(i1)\n",
    "        except:\n",
    "            x1_is_empty = True\n",
    "\n",
    "        try:\n",
    "            x2 = next(i2)\n",
    "        except:\n",
    "            x2_is_empty = True\n",
    "        \n",
    "        if(x1_is_empty and x2_is_empty):\n",
    "            return\n",
    "        elif(x1_is_empty and not x2_is_empty):\n",
    "            yield x2\n",
    "        elif(not x1_is_empty and x2_is_empty):\n",
    "            yield x1\n",
    "        else:\n",
    "            x1, x2 = min(x1, x2), max(x1, x2)\n",
    "            yield(x1)\n",
    "            yield(x2)"
   ]
  },
  {
   "cell_type": "markdown",
   "metadata": {},
   "source": [
    "# Test with Infinite Odd & Even numbers"
   ]
  },
  {
   "cell_type": "code",
   "execution_count": 2,
   "metadata": {},
   "outputs": [],
   "source": [
    "def even_numbers():\n",
    "    num = 0\n",
    "    while True:\n",
    "        yield num\n",
    "        \n",
    "def odd_numbers():\n",
    "    num = 1\n",
    "    while True:\n",
    "        yield num\n",
    "        num += 2"
   ]
  },
  {
   "cell_type": "code",
   "execution_count": 3,
   "metadata": {},
   "outputs": [
    {
     "name": "stdout",
     "output_type": "stream",
     "text": [
      "0\n",
      "1\n",
      "0\n",
      "3\n",
      "0\n",
      "5\n",
      "0\n",
      "7\n",
      "0\n",
      "9\n"
     ]
    }
   ],
   "source": [
    "s = merge_sort_iterator(even_numbers(), odd_numbers())\n",
    "for i in range(10):\n",
    "    print(next(s))"
   ]
  },
  {
   "cell_type": "markdown",
   "metadata": {},
   "source": [
    "# Test with Custom Iterators"
   ]
  },
  {
   "cell_type": "code",
   "execution_count": 4,
   "metadata": {},
   "outputs": [
    {
     "name": "stdout",
     "output_type": "stream",
     "text": [
      "-3\n",
      "1\n",
      "1\n",
      "8\n",
      "9\n",
      "11\n",
      "10\n",
      "19\n",
      "100\n"
     ]
    }
   ],
   "source": [
    "i1 = (i for i in [1,1,11, 19, 100])\n",
    "i2 = (i for i in [-3, 8, 9, 10])\n",
    "\n",
    "s = merge_sort_iterator(i1, i2)\n",
    "for i in range(100):\n",
    "    try:\n",
    "        print(next(s))\n",
    "    except StopIteration:\n",
    "        break"
   ]
  },
  {
   "cell_type": "markdown",
   "metadata": {},
   "source": [
    "# <span style='color:red'>It is not working for three iterators</span>"
   ]
  },
  {
   "cell_type": "code",
   "execution_count": 5,
   "metadata": {},
   "outputs": [
    {
     "name": "stdout",
     "output_type": "stream",
     "text": [
      "-3\n",
      "2\n",
      "1\n",
      "4\n",
      "1\n",
      "5\n",
      "6\n",
      "8\n",
      "7\n",
      "9\n",
      "11\n",
      "10000\n",
      "10\n",
      "19\n",
      "100\n"
     ]
    }
   ],
   "source": [
    "i1 = (i for i in [1,1,11, 19, 100])\n",
    "i2 = (i for i in [-3, 8, 9, 10])\n",
    "i3 = (i for i in [2,4,5,6,7,10000])\n",
    "\n",
    "s = merge_sort_iterator(merge_sort_iterator(i1, i2), i3)\n",
    "for i in range(100):\n",
    "    try:\n",
    "        print(next(s))\n",
    "    except StopIteration:\n",
    "        break"
   ]
  },
  {
   "cell_type": "markdown",
   "metadata": {},
   "source": [
    "# Reimplement to support any number of iterators and sorting order"
   ]
  },
  {
   "cell_type": "code",
   "execution_count": 9,
   "metadata": {},
   "outputs": [],
   "source": [
    "def merge_sort_iterator(ascending, *argi):   \n",
    "    ##################################################\n",
    "    # Get list of next numbers\n",
    "    # None value for those iterator that has stopped\n",
    "    ##################################################\n",
    "    next_numbers = [next(iterator, None) for iterator in argi]\n",
    "    total = len(argi)\n",
    "    n_empty = sum(n is None for n in next_numbers)\n",
    "    all_empty = (total == n_empty)\n",
    "    \n",
    "    while not all_empty:\n",
    "        if ascending:\n",
    "            ##############################################\n",
    "            # Calculate minimum number and its position\n",
    "            ##############################################\n",
    "            min_index = None\n",
    "            min_next = None\n",
    "\n",
    "            for index, n in enumerate(next_numbers):\n",
    "                if n is None:\n",
    "                    continue\n",
    "                if (min_index is None and min_next is None) or (n < min_next):\n",
    "                    min_next = n\n",
    "                    min_index = index\n",
    "\n",
    "            #######################\n",
    "            # Yield next minimum\n",
    "            #######################\n",
    "            yield(next_numbers[min_index])\n",
    "\n",
    "            ########################\n",
    "            # Replenish next number\n",
    "            ########################\n",
    "            new_next = next(argi[min_index], None)\n",
    "            if new_next is None:\n",
    "                n_empty += 1\n",
    "                all_empty = (total == n_empty)\n",
    "            next_numbers[min_index] = new_next\n",
    "        else:\n",
    "            ##############################################\n",
    "            # Calculate max number and its position\n",
    "            ##############################################\n",
    "            max_index = None\n",
    "            max_next = None\n",
    "\n",
    "            for index, n in enumerate(next_numbers):\n",
    "                if n is None:\n",
    "                    continue\n",
    "                if (max_index is None and max_next is None) or (n > max_next):\n",
    "                    max_next = n\n",
    "                    max_index = index\n",
    "\n",
    "            #######################\n",
    "            # Yield next maximum\n",
    "            #######################\n",
    "            yield(next_numbers[max_index])\n",
    "\n",
    "            ########################\n",
    "            # Replenish next number\n",
    "            ########################\n",
    "            new_next = next(argi[max_index], None)\n",
    "            if new_next is None:\n",
    "                n_empty += 1\n",
    "                all_empty = (total == n_empty)\n",
    "            next_numbers[max_index] = new_next\n",
    "        "
   ]
  },
  {
   "cell_type": "code",
   "execution_count": 10,
   "metadata": {},
   "outputs": [
    {
     "name": "stdout",
     "output_type": "stream",
     "text": [
      "-3\n",
      "1\n",
      "1\n",
      "2\n",
      "4\n",
      "5\n",
      "6\n",
      "7\n",
      "8\n",
      "9\n",
      "10\n",
      "11\n",
      "19\n",
      "100\n",
      "10000\n"
     ]
    }
   ],
   "source": [
    "i1 = (i for i in [1,1,11, 19, 100])\n",
    "i2 = (i for i in [-3, 8, 9, 10])\n",
    "i3 = (i for i in [2,4,5,6,7,10000])\n",
    "\n",
    "s = merge_sort_iterator(True, i1, i2, i3)\n",
    "for i in range(100):\n",
    "    try:\n",
    "        print(next(s))\n",
    "    except StopIteration:\n",
    "        break"
   ]
  },
  {
   "cell_type": "code",
   "execution_count": 11,
   "metadata": {},
   "outputs": [
    {
     "name": "stdout",
     "output_type": "stream",
     "text": [
      "99\n",
      "10\n",
      "9\n",
      "8\n",
      "1\n",
      "1\n",
      "0\n",
      "-1\n",
      "-10\n",
      "-100\n",
      "-100\n",
      "-273\n",
      "-1001\n"
     ]
    }
   ],
   "source": [
    "i1 = (i for i in [99, 1, -100, -1001])\n",
    "i2 = (i for i in [10, 9, 8, 1])\n",
    "i3 = (i for i in [0, -1, -10, -100, -273])\n",
    "\n",
    "s = merge_sort_iterator(False, i1, i2, i3)\n",
    "for i in range(100):\n",
    "    try:\n",
    "        print(next(s))\n",
    "    except StopIteration:\n",
    "        break"
   ]
  },
  {
   "cell_type": "code",
   "execution_count": null,
   "metadata": {},
   "outputs": [],
   "source": []
  },
  {
   "cell_type": "code",
   "execution_count": null,
   "metadata": {},
   "outputs": [],
   "source": []
  },
  {
   "cell_type": "code",
   "execution_count": null,
   "metadata": {},
   "outputs": [],
   "source": []
  }
 ],
 "metadata": {
  "kernelspec": {
   "display_name": "Python 3",
   "language": "python",
   "name": "python3"
  },
  "language_info": {
   "codemirror_mode": {
    "name": "ipython",
    "version": 3
   },
   "file_extension": ".py",
   "mimetype": "text/x-python",
   "name": "python",
   "nbconvert_exporter": "python",
   "pygments_lexer": "ipython3",
   "version": "3.7.3"
  }
 },
 "nbformat": 4,
 "nbformat_minor": 2
}
